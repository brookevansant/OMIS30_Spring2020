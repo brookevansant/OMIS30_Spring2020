{
 "cells": [
  {
   "cell_type": "code",
   "execution_count": 1,
   "metadata": {},
   "outputs": [
    {
     "name": "stdout",
     "output_type": "stream",
     "text": [
      "enter a menu choice4\n",
      "error, bad choice selected\n"
     ]
    }
   ],
   "source": [
    "user_input_choice = input(\"enter a menu choice\")\n",
    "\n",
    "if user_input_choice == '1':\n",
    "    pass\n",
    "elif user_input_choice == '2':\n",
    "    pass\n",
    "else:\n",
    "    print('error, bad choice selected')"
   ]
  },
  {
   "cell_type": "code",
   "execution_count": 4,
   "metadata": {},
   "outputs": [
    {
     "name": "stdout",
     "output_type": "stream",
     "text": [
      "enter a menu choice (you are on try 1)1\n",
      "enter a menu choice (you are on try 2)2\n",
      "enter a menu choice (you are on try 3)3\n",
      "error, bad choice selected\n"
     ]
    }
   ],
   "source": [
    "counter = 0\n",
    "\n",
    "while counter < 3:\n",
    "    counter += 1\n",
    "    user_input_choice = input(\"enter a menu choice (you are on try {})\".format(counter))\n",
    "\n",
    "    if user_input_choice == '1':\n",
    "        pass\n",
    "    elif user_input_choice == '2':\n",
    "        pass\n",
    "    else:\n",
    "        print('error, bad choice selected')\n"
   ]
  },
  {
   "cell_type": "code",
   "execution_count": null,
   "metadata": {},
   "outputs": [
    {
     "name": "stdout",
     "output_type": "stream",
     "text": [
      "enter a menu choice (you are on try 1)\n",
      "Enter 'q' to Quit\n",
      ":q\n",
      "error, bad choice selected\n"
     ]
    }
   ],
   "source": [
    "counter = 0\n",
    "\n",
    "while counter < 3:\n",
    "    counter += 1\n",
    "    user_input_choice = input(\"enter a menu choice (you are on try {})\\nEnter 'q' to Quit\\n:\".format(counter))\n",
    "\n",
    "    if user_input_choice == '1':\n",
    "        pass\n",
    "    elif user_input_choice == '2':\n",
    "        pass\n",
    "    else:\n",
    "        print('error, bad choice selected')\n",
    "\n"
   ]
  },
  {
   "cell_type": "code",
   "execution_count": null,
   "metadata": {},
   "outputs": [],
   "source": []
  }
 ],
 "metadata": {
  "kernelspec": {
   "display_name": "Python 3",
   "language": "python",
   "name": "python3"
  },
  "language_info": {
   "codemirror_mode": {
    "name": "ipython",
    "version": 3
   },
   "file_extension": ".py",
   "mimetype": "text/x-python",
   "name": "python",
   "nbconvert_exporter": "python",
   "pygments_lexer": "ipython3",
   "version": "3.7.4"
  }
 },
 "nbformat": 4,
 "nbformat_minor": 2
}
