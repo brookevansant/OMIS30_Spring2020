{
 "cells": [
  {
   "cell_type": "code",
   "execution_count": 14,
   "metadata": {},
   "outputs": [
    {
     "name": "stdout",
     "output_type": "stream",
     "text": [
      "Choose a calculator, 1, 2, 3, or 4. Enter the number fo the calculator you want.\n",
      "\n",
      "1. FizzBuzz\n",
      "2. Primes\n",
      "3. Random\n",
      "4. Fibonocci\n",
      "\n",
      "->1\n",
      "running calc for Fizz Buzz\n"
     ]
    }
   ],
   "source": [
    "import random\n",
    "\n",
    "calculator_menu = \"\"\"\n",
    "Choose a calculator, 1, 2, 3, or 4. Enter the number fo the calculator you want.\n",
    "\n",
    "1. FizzBuzz\n",
    "2. Primes\n",
    "3. Random\n",
    "4. Fibonocci\n",
    "\n",
    "->\n",
    "\"\"\".strip()\n",
    "\n",
    "calculator_choice = input(calculator_menu)\n",
    "\n",
    "if calculator_choice == '1':\n",
    "    print(\"running calc for Fizz Buzz\")\n",
    "elif calculator_choice == '2':\n",
    "    print(\"running calc for primes\")\n",
    "elif calculator_choice == '3':\n",
    "    print(\"running calc for random\")\n",
    "else:\n",
    "    print(\"doing else block\")"
   ]
  },
  {
   "cell_type": "code",
   "execution_count": 22,
   "metadata": {},
   "outputs": [
    {
     "name": "stdout",
     "output_type": "stream",
     "text": [
      "To what numbers do you want to count to (enter an int)?\n",
      "->22\n"
     ]
    }
   ],
   "source": [
    "# FizzBuzz\n",
    "count_up_to = int(input(\"To what numbers do you want to count to (enter an int)?\\n->\"))"
   ]
  },
  {
   "cell_type": "code",
   "execution_count": 18,
   "metadata": {},
   "outputs": [
    {
     "data": {
      "text/plain": [
       "[0, 1, 2, 3, 4, 5, 6, 7, 8, 9, 10, 11, 12, 13, 14, 15, 16, 17, 18, 19, 20, 21]"
      ]
     },
     "execution_count": 18,
     "metadata": {},
     "output_type": "execute_result"
    }
   ],
   "source": [
    "list(range(22))"
   ]
  },
  {
   "cell_type": "code",
   "execution_count": 19,
   "metadata": {},
   "outputs": [
    {
     "data": {
      "text/plain": [
       "[10, 11, 12, 13, 14, 15, 16, 17, 18, 19, 20, 21]"
      ]
     },
     "execution_count": 19,
     "metadata": {},
     "output_type": "execute_result"
    }
   ],
   "source": [
    "list(range(10,22))"
   ]
  },
  {
   "cell_type": "code",
   "execution_count": 20,
   "metadata": {},
   "outputs": [
    {
     "data": {
      "text/plain": [
       "[10, 13, 16, 19]"
      ]
     },
     "execution_count": 20,
     "metadata": {},
     "output_type": "execute_result"
    }
   ],
   "source": [
    "list(range(10,22,3))"
   ]
  },
  {
   "cell_type": "code",
   "execution_count": 24,
   "metadata": {},
   "outputs": [
    {
     "name": "stdout",
     "output_type": "stream",
     "text": [
      "0\n",
      "1\n",
      "2\n",
      "3\n",
      "4\n",
      "5\n",
      "6\n",
      "7\n",
      "8\n",
      "9\n",
      "10\n",
      "11\n",
      "12\n",
      "13\n",
      "14\n",
      "15\n",
      "16\n",
      "17\n",
      "18\n",
      "19\n",
      "20\n",
      "21\n"
     ]
    }
   ],
   "source": [
    "for i in range(count_up_to):\n",
    "    print(i)"
   ]
  },
  {
   "cell_type": "code",
   "execution_count": 25,
   "metadata": {},
   "outputs": [
    {
     "name": "stdout",
     "output_type": "stream",
     "text": [
      "1\n",
      "2\n",
      "3\n",
      "4\n",
      "5\n",
      "6\n",
      "7\n",
      "8\n",
      "9\n",
      "10\n",
      "11\n",
      "12\n",
      "13\n",
      "14\n",
      "15\n",
      "16\n",
      "17\n",
      "18\n",
      "19\n",
      "20\n",
      "21\n",
      "22\n"
     ]
    }
   ],
   "source": [
    "for i in range(1,count_up_to+1):\n",
    "    print(i)"
   ]
  },
  {
   "cell_type": "code",
   "execution_count": 26,
   "metadata": {},
   "outputs": [
    {
     "name": "stdout",
     "output_type": "stream",
     "text": [
      "1\n",
      "2\n",
      "3\n",
      "4\n",
      "5\n",
      "6\n",
      "7\n",
      "8\n",
      "9\n",
      "10\n",
      "11\n",
      "12\n",
      "13\n",
      "14\n",
      "15\n",
      "16\n",
      "17\n",
      "18\n",
      "19\n",
      "20\n",
      "21\n",
      "22\n"
     ]
    }
   ],
   "source": [
    "for i in range(count_up_to):\n",
    "    i = i+1\n",
    "    print(i)"
   ]
  },
  {
   "cell_type": "code",
   "execution_count": 36,
   "metadata": {},
   "outputs": [
    {
     "name": "stdout",
     "output_type": "stream",
     "text": [
      "1\n",
      "2\n",
      "3 Fizz\n",
      "4\n",
      "5 Buzz\n",
      "6 Fizz\n",
      "7\n",
      "8\n",
      "9 Fizz\n",
      "10 Buzz\n",
      "11\n",
      "12 Fizz\n",
      "13\n",
      "14\n",
      "15 Fizz-Buzz\n",
      "16\n",
      "17\n",
      "18 Fizz\n",
      "19\n",
      "20 Buzz\n",
      "21 Fizz\n",
      "22\n"
     ]
    }
   ],
   "source": [
    "for i in range(count_up_to):\n",
    "    i = i+1\n",
    "    print(i, end='')\n",
    "    if i % 15 == 0:\n",
    "        print(\" Fizz-Buzz\")\n",
    "    elif i % 5 == 0:\n",
    "        print(\" Buzz\")\n",
    "    elif i % 3 == 0:\n",
    "        print(\" Fizz\")\n",
    "    else:\n",
    "        print()\n"
   ]
  },
  {
   "cell_type": "code",
   "execution_count": 38,
   "metadata": {},
   "outputs": [
    {
     "name": "stdout",
     "output_type": "stream",
     "text": [
      "1\n",
      "2\n",
      "3 Fizz \n",
      "4\n",
      "5 Buzz \n",
      "6 Fizz \n",
      "7\n",
      "8\n",
      "9 Fizz \n",
      "10 Buzz \n",
      "11\n",
      "12 Fizz \n",
      "13\n",
      "14\n",
      "15 Fizz  Buzz \n",
      "16\n",
      "17\n",
      "18 Fizz \n",
      "19\n",
      "20 Buzz \n",
      "21 Fizz \n",
      "22\n"
     ]
    }
   ],
   "source": [
    "for i in range(count_up_to):\n",
    "    i = i+1\n",
    "    print(i, end='')\n",
    "    if i % 3 == 0:\n",
    "        print(\" Fizz \",end='')\n",
    "\n",
    "    if i % 5 == 0:\n",
    "        print(\" Buzz \", end='')\n",
    "    print()\n",
    "\n"
   ]
  },
  {
   "cell_type": "code",
   "execution_count": 40,
   "metadata": {},
   "outputs": [
    {
     "name": "stdout",
     "output_type": "stream",
     "text": [
      "1 \n",
      "2 \n",
      "3 Fizz \n",
      "4 \n",
      "5 Buzz \n",
      "6 Fizz \n",
      "7 \n",
      "8 \n",
      "9 Fizz \n",
      "10 Buzz \n",
      "11 \n",
      "12 Fizz \n",
      "13 \n",
      "14 \n",
      "15 Fizz Buzz \n",
      "16 \n",
      "17 \n",
      "18 Fizz \n",
      "19 \n",
      "20 Buzz \n",
      "21 Fizz \n",
      "22 \n"
     ]
    }
   ],
   "source": [
    "for i in range(count_up_to):\n",
    "    i = i+1\n",
    "    output_line = str(i) + ' '\n",
    "    if i % 3 == 0:\n",
    "        output_line += \"Fizz \"\n",
    "\n",
    "    if i % 5 == 0:\n",
    "        output_line += \"Buzz \"\n",
    "    print(output_line)\n",
    "\n",
    "\n"
   ]
  },
  {
   "cell_type": "markdown",
   "metadata": {},
   "source": [
    "concatonating strings:"
   ]
  },
  {
   "cell_type": "code",
   "execution_count": 43,
   "metadata": {},
   "outputs": [
    {
     "name": "stdout",
     "output_type": "stream",
     "text": [
      "22...\n"
     ]
    }
   ],
   "source": [
    "print(str(i) + '...')"
   ]
  },
  {
   "cell_type": "code",
   "execution_count": 44,
   "metadata": {},
   "outputs": [
    {
     "name": "stdout",
     "output_type": "stream",
     "text": [
      "22 ...\n"
     ]
    }
   ],
   "source": [
    "print(str(i), '...')"
   ]
  },
  {
   "cell_type": "code",
   "execution_count": null,
   "metadata": {},
   "outputs": [],
   "source": []
  }
 ],
 "metadata": {
  "kernelspec": {
   "display_name": "Python 3",
   "language": "python",
   "name": "python3"
  },
  "language_info": {
   "codemirror_mode": {
    "name": "ipython",
    "version": 3
   },
   "file_extension": ".py",
   "mimetype": "text/x-python",
   "name": "python",
   "nbconvert_exporter": "python",
   "pygments_lexer": "ipython3",
   "version": "3.7.4"
  }
 },
 "nbformat": 4,
 "nbformat_minor": 2
}
